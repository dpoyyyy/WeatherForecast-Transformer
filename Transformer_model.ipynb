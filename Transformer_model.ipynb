{
  "nbformat": 4,
  "nbformat_minor": 0,
  "metadata": {
    "colab": {
      "provenance": [],
      "gpuType": "T4"
    },
    "kernelspec": {
      "name": "python3",
      "display_name": "Python 3"
    },
    "language_info": {
      "name": "python"
    },
    "accelerator": "GPU"
  },
  "cells": [
    {
      "cell_type": "code",
      "source": [
        "import pandas as pd\n",
        "import numpy as np\n",
        "from sklearn.preprocessing import MinMaxScaler\n",
        "import torch\n",
        "import torch.nn as nn\n",
        "from torch.utils.data import DataLoader, TensorDataset"
      ],
      "metadata": {
        "id": "0D4K5Z7X5tmv"
      },
      "execution_count": 2,
      "outputs": []
    },
    {
      "cell_type": "code",
      "source": [
        "device = torch.device(\"cuda\" if torch.cuda.is_available() else \"cpu\")\n",
        "data = pd.read_csv(\"rasht-2024-1-28-2025-1-28-hourly.csv\")\n",
        "\n",
        "print(data.head())\n",
        "\n",
        "features = ['temp', 'dwpt', 'wspd']\n",
        "\n",
        "data = data[features]"
      ],
      "metadata": {
        "colab": {
          "base_uri": "https://localhost:8080/"
        },
        "id": "p_zyv7j45wl7",
        "outputId": "7a4a231e-33da-49fc-84ae-e8bcd377b5de"
      },
      "execution_count": 4,
      "outputs": [
        {
          "output_type": "stream",
          "name": "stdout",
          "text": [
            "                  time  temp  dwpt   rhum  prcp  snow   wdir  wspd  wpgt  \\\n",
            "0  2024-01-28 00:00:00   7.8   7.8  100.0   0.3   NaN  260.0  14.4   NaN   \n",
            "1  2024-01-28 01:00:00   8.0   8.0  100.0   0.2   NaN  250.0  11.2   NaN   \n",
            "2  2024-01-28 02:00:00   8.0   8.0  100.0   0.9   NaN  280.0  18.4   NaN   \n",
            "3  2024-01-28 03:00:00   6.8   6.8  100.0   2.4   NaN  270.0  18.0   NaN   \n",
            "4  2024-01-28 04:00:00   7.0   7.0  100.0   1.3   NaN  240.0  11.2   NaN   \n",
            "\n",
            "     pres  tsun  coco  \n",
            "0  1014.5   NaN   7.0  \n",
            "1  1015.0   NaN   7.0  \n",
            "2  1016.0   NaN   7.0  \n",
            "3  1017.1   NaN   7.0  \n",
            "4  1017.0   NaN   7.0  \n"
          ]
        }
      ]
    },
    {
      "cell_type": "code",
      "source": [
        "features = ['temp', 'dwpt', 'wspd']\n",
        "data = data[features]\n",
        "\n",
        "\n",
        "scaler = MinMaxScaler(feature_range=(0, 1))\n",
        "scaled_data = scaler.fit_transform(data)"
      ],
      "metadata": {
        "id": "1ql1yEIT6KYR"
      },
      "execution_count": 5,
      "outputs": []
    },
    {
      "cell_type": "code",
      "source": [
        "def create_dataset(dataset, time_step=1):\n",
        "    X, Y = [], []\n",
        "    for i in range(len(dataset) - time_step - 1):\n",
        "        a = dataset[i:(i + time_step), :]\n",
        "        X.append(a)\n",
        "        Y.append(dataset[i + time_step, 0])\n",
        "    return np.array(X), np.array(Y)"
      ],
      "metadata": {
        "id": "OMRxIei58TPa"
      },
      "execution_count": 13,
      "outputs": []
    },
    {
      "cell_type": "code",
      "source": [
        "time_step = 100\n",
        "X, Y = create_dataset(scaled_data, time_step)\n",
        "X = X.reshape(X.shape[0], time_step, len(features))\n",
        "Y = Y.reshape(Y.shape[0], 1)"
      ],
      "metadata": {
        "id": "M7wDNauy8a2x"
      },
      "execution_count": 7,
      "outputs": []
    },
    {
      "cell_type": "code",
      "source": [
        "X_tensor = torch.tensor(X, dtype=torch.float32).to(device)\n",
        "Y_tensor = torch.tensor(Y, dtype=torch.float32).to(device)\n",
        "\n",
        "batch_size = 64\n",
        "dataset = TensorDataset(X_tensor, Y_tensor)\n",
        "dataloader = DataLoader(dataset, batch_size=batch_size, shuffle=True)\n",
        "print(f'X shape: {X_tensor.shape}, Y shape: {Y_tensor.shape}')"
      ],
      "metadata": {
        "colab": {
          "base_uri": "https://localhost:8080/"
        },
        "id": "_egMd2oZ8itw",
        "outputId": "caa7cda4-f376-4cb4-b6d3-f2b92fc5830c"
      },
      "execution_count": 8,
      "outputs": [
        {
          "output_type": "stream",
          "name": "stdout",
          "text": [
            "X shape: torch.Size([8684, 100, 3]), Y shape: torch.Size([8684, 1])\n"
          ]
        }
      ]
    },
    {
      "cell_type": "code",
      "source": [
        "class TransformerModel(nn.Module):\n",
        "    def __init__(self, input_dim, model_dim, num_heads, num_layers, output_dim):\n",
        "        super(TransformerModel, self).__init__()\n",
        "        self.model_dim = model_dim\n",
        "        self.embedding = nn.Linear(input_dim, model_dim)\n",
        "\n",
        "        # Define Encoder layers\n",
        "        encoder_layers = nn.TransformerEncoderLayer(d_model=model_dim, nhead=num_heads)\n",
        "        self.transformer_encoder = nn.TransformerEncoder(encoder_layers, num_layers=num_layers)\n",
        "\n",
        "        self.fc_out = nn.Linear(model_dim, output_dim)\n",
        "\n",
        "    def forward(self, src):\n",
        "        src = self.embedding(src) * np.sqrt(self.model_dim)\n",
        "        src = src.permute(1, 0, 2)\n",
        "\n",
        "        transformer_out = self.transformer_encoder(src)\n",
        "        output = self.fc_out(transformer_out[-1, :, :])\n",
        "        return output"
      ],
      "metadata": {
        "id": "79LAA4OD8r-X"
      },
      "execution_count": 9,
      "outputs": []
    },
    {
      "cell_type": "code",
      "source": [
        "input_dim = len(features)\n",
        "model_dim = 64\n",
        "num_heads = 4\n",
        "num_layers = 2\n",
        "output_dim = 1\n",
        "\n",
        "model = TransformerModel(input_dim, model_dim, num_heads, num_layers, output_dim).to(device)\n",
        "criterion = nn.MSELoss()\n",
        "optimizer = torch.optim.Adam(model.parameters(), lr=0.001)"
      ],
      "metadata": {
        "colab": {
          "base_uri": "https://localhost:8080/"
        },
        "id": "f4LescIJ9EIu",
        "outputId": "06f0d827-1d9f-45a7-dce4-3b9f10496a76"
      },
      "execution_count": 10,
      "outputs": [
        {
          "output_type": "stream",
          "name": "stderr",
          "text": [
            "/usr/local/lib/python3.11/dist-packages/torch/nn/modules/transformer.py:379: UserWarning: enable_nested_tensor is True, but self.use_nested_tensor is False because encoder_layer.self_attn.batch_first was not True(use batch_first for better inference performance)\n",
            "  warnings.warn(\n"
          ]
        }
      ]
    },
    {
      "cell_type": "code",
      "source": [
        "num_epochs = 25\n",
        "for epoch in range(num_epochs):\n",
        "    for X_batch, Y_batch in dataloader:\n",
        "        X_batch, Y_batch = X_batch.to(device), Y_batch.to(device)\n",
        "        optimizer.zero_grad()\n",
        "        output = model(X_batch)\n",
        "        loss = criterion(output, Y_batch)\n",
        "        loss.backward()\n",
        "        optimizer.step()\n",
        "    print(f'Epoch {epoch+1}/{num_epochs}, Loss: {loss.item()}')"
      ],
      "metadata": {
        "colab": {
          "base_uri": "https://localhost:8080/"
        },
        "id": "0-V-p8S79QnQ",
        "outputId": "90f0c7b2-e49a-4369-8734-8591ebd561b6"
      },
      "execution_count": 11,
      "outputs": [
        {
          "output_type": "stream",
          "name": "stdout",
          "text": [
            "Epoch 1/25, Loss: 0.005473834928125143\n",
            "Epoch 2/25, Loss: 0.0029310949612408876\n",
            "Epoch 3/25, Loss: 0.0012125479988753796\n",
            "Epoch 4/25, Loss: 0.0018321557436138391\n",
            "Epoch 5/25, Loss: 0.0017497326480224729\n",
            "Epoch 6/25, Loss: 0.0010897053871303797\n",
            "Epoch 7/25, Loss: 0.0014201643643900752\n",
            "Epoch 8/25, Loss: 0.0016880849143490195\n",
            "Epoch 9/25, Loss: 0.0012819429393857718\n",
            "Epoch 10/25, Loss: 0.001876005087979138\n",
            "Epoch 11/25, Loss: 0.0012313956394791603\n",
            "Epoch 12/25, Loss: 0.0009543628548271954\n",
            "Epoch 13/25, Loss: 0.0012028645724058151\n",
            "Epoch 14/25, Loss: 0.0011535659432411194\n",
            "Epoch 15/25, Loss: 0.0013251652708277106\n",
            "Epoch 16/25, Loss: 0.001747637870721519\n",
            "Epoch 17/25, Loss: 0.002167580183595419\n",
            "Epoch 18/25, Loss: 0.0012257816269993782\n",
            "Epoch 19/25, Loss: 0.0018977030413225293\n",
            "Epoch 20/25, Loss: 0.0009659833158366382\n",
            "Epoch 21/25, Loss: 0.0019104640232399106\n",
            "Epoch 22/25, Loss: 0.001225130632519722\n",
            "Epoch 23/25, Loss: 0.0014630878577008843\n",
            "Epoch 24/25, Loss: 0.0012033688835799694\n",
            "Epoch 25/25, Loss: 0.0011921023251488805\n"
          ]
        }
      ]
    },
    {
      "cell_type": "code",
      "source": [
        "model.eval()\n",
        "with torch.no_grad():\n",
        "    predictions = model(X_tensor).cpu().numpy()\n",
        "\n",
        "\n",
        "predictions_full = np.zeros((predictions.shape[0], len(features)))\n",
        "predictions_full[:, 0] = predictions[:, 0]\n",
        "\n",
        "\n",
        "predictions = scaler.inverse_transform(predictions_full)[:, 0]\n",
        "\n",
        "\n",
        "print(predictions)"
      ],
      "metadata": {
        "colab": {
          "base_uri": "https://localhost:8080/"
        },
        "id": "iJnDOsIv9gL8",
        "outputId": "560fe7e4-a8c7-4815-fe2e-aaf24b68504c"
      },
      "execution_count": 14,
      "outputs": [
        {
          "output_type": "stream",
          "name": "stdout",
          "text": [
            "[5.68182422 6.46407229 6.37870523 ... 7.91018455 7.13411853 7.3375609 ]\n"
          ]
        }
      ]
    },
    {
      "cell_type": "code",
      "source": [
        "y_true = Y_tensor.cpu().numpy()\n",
        "with torch.no_grad():\n",
        "    y_pred = model(X_tensor).cpu().numpy()\n",
        "\n",
        "\n",
        "mse_loss = np.mean((y_true - y_pred) ** 2)\n",
        "print(f'MSE Loss: {mse_loss}')\n",
        "\n",
        "y_true = Y_tensor.cpu().numpy()\n",
        "with torch.no_grad():\n",
        "    y_pred = model(X_tensor).cpu().numpy()\n",
        "\n",
        "\n",
        "rmse_loss = np.sqrt(np.mean((y_true - y_pred) ** 2))\n",
        "print(f'RMSE Loss: {rmse_loss}')\n"
      ],
      "metadata": {
        "colab": {
          "base_uri": "https://localhost:8080/"
        },
        "id": "7okcGcLh_2Vs",
        "outputId": "743c9074-8f55-442c-9dc5-84e964cef4ca"
      },
      "execution_count": 15,
      "outputs": [
        {
          "output_type": "stream",
          "name": "stdout",
          "text": [
            "MSE Loss: 0.0020029402803629637\n",
            "RMSE Loss: 0.04475422203540802\n"
          ]
        }
      ]
    },
    {
      "cell_type": "code",
      "source": [],
      "metadata": {
        "id": "Ci53sySAAq06"
      },
      "execution_count": null,
      "outputs": []
    }
  ]
}